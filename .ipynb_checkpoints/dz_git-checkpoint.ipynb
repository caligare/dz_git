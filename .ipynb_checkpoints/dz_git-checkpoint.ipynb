{
 "cells": [
  {
   "cell_type": "code",
   "execution_count": 1,
   "id": "d958634d-f3ea-427e-a497-205391593e23",
   "metadata": {},
   "outputs": [],
   "source": [
    "import os\n",
    "import shutil"
   ]
  },
  {
   "cell_type": "code",
   "execution_count": 2,
   "id": "ab9316fa-c6c6-4f93-a603-d38c2b642254",
   "metadata": {
    "tags": []
   },
   "outputs": [],
   "source": [
    "def create_file(file_name):\n",
    "    try:\n",
    "        with open(file_name, 'w'):\n",
    "            print(f\"Файл '{file_name}' успешно создан.\")\n",
    "    except Exception as e:\n",
    "        print(f\"Ошибка при создании файла '{file_name}': {e}\")\n",
    "\n",
    "def delete_file(file_name):\n",
    "    try:\n",
    "        os.remove(file_name)\n",
    "        print(f\"Файл '{file_name}' успешно удален.\")\n",
    "    except Exception as e:\n",
    "        print(f\"Ошибка при удалении файла '{file_name}': {e}\")\n",
    "\n",
    "def create_folder(folder_name):\n",
    "    try:\n",
    "        os.mkdir(folder_name)\n",
    "        print(f\"Папка '{folder_name}' успешно создана.\")\n",
    "    except Exception as e:\n",
    "        print(f\"Ошибка при создании папки '{folder_name}': {e}\")\n",
    "\n",
    "def delete_folder(folder_name):\n",
    "    try:\n",
    "        shutil.rmtree(folder_name)\n",
    "        print(f\"Папка '{folder_name}' успешно удалена.\")\n",
    "    except Exception as e:\n",
    "        print(f\"Ошибка при удалении папки '{folder_name}': {e}\")\n",
    "\n",
    "def copy_file(source, destination):\n",
    "    try:\n",
    "        # Получаем имя файла из пути\n",
    "        file_name = os.path.basename(source)\n",
    "        \n",
    "        # Проверяем, существует ли файл с таким именем в папке назначения\n",
    "        destination_file_path = os.path.join(destination, file_name)\n",
    "        if os.path.exists(destination_file_path):\n",
    "            # Если файл уже существует, добавляем к имени слово \"копия\"\n",
    "            base_name, extension = os.path.splitext(file_name)\n",
    "            new_file_name = f\"{base_name}_копия{extension}\"\n",
    "            destination_file_path = os.path.join(destination, new_file_name)\n",
    "\n",
    "        # Копируем файл в папку назначения\n",
    "        shutil.copy2(source, destination_file_path)\n",
    "        \n",
    "        print(f\"Файл '{file_name}' успешно скопирован в '{destination_file_path}'.\")\n",
    "    except Exception as e:\n",
    "        print(f\"Ошибка при копировании файла '{source}': {e}\")\n",
    "\n",
    "def move_file(source, destination):\n",
    "    try:\n",
    "        shutil.move(source, destination)\n",
    "        print(f\"Файл '{source}' успешно перемещен в '{destination}'.\")\n",
    "    except Exception as e:\n",
    "        print(f\"Ошибка при перемещении файла '{source}': {e}\")\n",
    "        \n",
    "def show_menu():\n",
    "    print(\"\\nМеню:\")\n",
    "    print(\"1. Создать файл\")\n",
    "    print(\"2. Удалить файл\")\n",
    "    print(\"3. Создать папку\")\n",
    "    print(\"4. Удалить папку\")\n",
    "    print(\"5. Копировать файл\")\n",
    "    print(\"6. Переместить файл\")\n",
    "    print(\"0. Выйти\")"
   ]
  },
  {
   "cell_type": "code",
   "execution_count": 3,
   "id": "c58b0458-97dd-4860-9663-77421d4fe3e9",
   "metadata": {},
   "outputs": [
    {
     "name": "stdout",
     "output_type": "stream",
     "text": [
      "\n",
      "Меню:\n",
      "1. Создать файл\n",
      "2. Удалить файл\n",
      "3. Создать папку\n",
      "4. Удалить папку\n",
      "5. Копировать файл\n",
      "6. Переместить файл\n",
      "0. Выйти\n"
     ]
    },
    {
     "ename": "KeyboardInterrupt",
     "evalue": "Interrupted by user",
     "output_type": "error",
     "traceback": [
      "\u001b[1;31m---------------------------------------------------------------------------\u001b[0m",
      "\u001b[1;31mKeyboardInterrupt\u001b[0m                         Traceback (most recent call last)",
      "Cell \u001b[1;32mIn[3], line 4\u001b[0m\n\u001b[0;32m      2\u001b[0m \u001b[38;5;28;01mwhile\u001b[39;00m \u001b[38;5;28;01mTrue\u001b[39;00m:\n\u001b[0;32m      3\u001b[0m     show_menu()\n\u001b[1;32m----> 4\u001b[0m     choice \u001b[38;5;241m=\u001b[39m \u001b[38;5;28minput\u001b[39m(\u001b[38;5;124m\"\u001b[39m\u001b[38;5;124mВыберите операцию (введите номер): \u001b[39m\u001b[38;5;124m\"\u001b[39m)\n\u001b[0;32m      6\u001b[0m     \u001b[38;5;28;01mif\u001b[39;00m choice \u001b[38;5;241m==\u001b[39m \u001b[38;5;124m\"\u001b[39m\u001b[38;5;124m1\u001b[39m\u001b[38;5;124m\"\u001b[39m:\n\u001b[0;32m      7\u001b[0m         file_name \u001b[38;5;241m=\u001b[39m \u001b[38;5;28minput\u001b[39m(\u001b[38;5;124m\"\u001b[39m\u001b[38;5;124mВведите имя файла: \u001b[39m\u001b[38;5;124m\"\u001b[39m)\n",
      "File \u001b[1;32mC:\\ProgramData\\anaconda3\\Lib\\site-packages\\ipykernel\\kernelbase.py:1202\u001b[0m, in \u001b[0;36mKernel.raw_input\u001b[1;34m(self, prompt)\u001b[0m\n\u001b[0;32m   1200\u001b[0m     msg \u001b[38;5;241m=\u001b[39m \u001b[38;5;124m\"\u001b[39m\u001b[38;5;124mraw_input was called, but this frontend does not support input requests.\u001b[39m\u001b[38;5;124m\"\u001b[39m\n\u001b[0;32m   1201\u001b[0m     \u001b[38;5;28;01mraise\u001b[39;00m StdinNotImplementedError(msg)\n\u001b[1;32m-> 1202\u001b[0m \u001b[38;5;28;01mreturn\u001b[39;00m \u001b[38;5;28mself\u001b[39m\u001b[38;5;241m.\u001b[39m_input_request(\n\u001b[0;32m   1203\u001b[0m     \u001b[38;5;28mstr\u001b[39m(prompt),\n\u001b[0;32m   1204\u001b[0m     \u001b[38;5;28mself\u001b[39m\u001b[38;5;241m.\u001b[39m_parent_ident[\u001b[38;5;124m\"\u001b[39m\u001b[38;5;124mshell\u001b[39m\u001b[38;5;124m\"\u001b[39m],\n\u001b[0;32m   1205\u001b[0m     \u001b[38;5;28mself\u001b[39m\u001b[38;5;241m.\u001b[39mget_parent(\u001b[38;5;124m\"\u001b[39m\u001b[38;5;124mshell\u001b[39m\u001b[38;5;124m\"\u001b[39m),\n\u001b[0;32m   1206\u001b[0m     password\u001b[38;5;241m=\u001b[39m\u001b[38;5;28;01mFalse\u001b[39;00m,\n\u001b[0;32m   1207\u001b[0m )\n",
      "File \u001b[1;32mC:\\ProgramData\\anaconda3\\Lib\\site-packages\\ipykernel\\kernelbase.py:1245\u001b[0m, in \u001b[0;36mKernel._input_request\u001b[1;34m(self, prompt, ident, parent, password)\u001b[0m\n\u001b[0;32m   1242\u001b[0m \u001b[38;5;28;01mexcept\u001b[39;00m \u001b[38;5;167;01mKeyboardInterrupt\u001b[39;00m:\n\u001b[0;32m   1243\u001b[0m     \u001b[38;5;66;03m# re-raise KeyboardInterrupt, to truncate traceback\u001b[39;00m\n\u001b[0;32m   1244\u001b[0m     msg \u001b[38;5;241m=\u001b[39m \u001b[38;5;124m\"\u001b[39m\u001b[38;5;124mInterrupted by user\u001b[39m\u001b[38;5;124m\"\u001b[39m\n\u001b[1;32m-> 1245\u001b[0m     \u001b[38;5;28;01mraise\u001b[39;00m \u001b[38;5;167;01mKeyboardInterrupt\u001b[39;00m(msg) \u001b[38;5;28;01mfrom\u001b[39;00m \u001b[38;5;28;01mNone\u001b[39;00m\n\u001b[0;32m   1246\u001b[0m \u001b[38;5;28;01mexcept\u001b[39;00m \u001b[38;5;167;01mException\u001b[39;00m:\n\u001b[0;32m   1247\u001b[0m     \u001b[38;5;28mself\u001b[39m\u001b[38;5;241m.\u001b[39mlog\u001b[38;5;241m.\u001b[39mwarning(\u001b[38;5;124m\"\u001b[39m\u001b[38;5;124mInvalid Message:\u001b[39m\u001b[38;5;124m\"\u001b[39m, exc_info\u001b[38;5;241m=\u001b[39m\u001b[38;5;28;01mTrue\u001b[39;00m)\n",
      "\u001b[1;31mKeyboardInterrupt\u001b[0m: Interrupted by user"
     ]
    }
   ],
   "source": [
    "if __name__ == \"__main__\":\n",
    "    while True:\n",
    "        show_menu()\n",
    "        choice = input(\"Выберите операцию (введите номер): \")\n",
    "\n",
    "        if choice == \"1\":\n",
    "            file_name = input(\"Введите имя файла: \")\n",
    "            create_file(file_name)\n",
    "        elif choice == \"2\":\n",
    "            file_name = input(\"Введите имя файла: \")\n",
    "            delete_file(file_name)\n",
    "        elif choice == \"3\":\n",
    "            folder_name = input(\"Введите имя папки: \")\n",
    "            create_folder(folder_name)\n",
    "        elif choice == \"4\":\n",
    "            folder_name = input(\"Введите имя папки: \")\n",
    "            delete_folder(folder_name)\n",
    "        elif choice == \"5\":\n",
    "            source = input(\"Введите путь к исходному файлу: \")\n",
    "            destination = input(\"Введите путь к папке, в которую скопировать: \")\n",
    "            copy_file(source, destination)\n",
    "        elif choice == \"6\":\n",
    "            source = input(\"Введите путь к исходному файлу: \")\n",
    "            destination = input(\"Введите путь к папке, в которую переместить: \")\n",
    "            move_file(source, destination)\n",
    "        elif choice == \"0\":\n",
    "            print(\"Программа завершена.\")\n",
    "            break\n",
    "        else:\n",
    "            print(\"Некорректный выбор. Пожалуйста, введите корректный номер операции.\")"
   ]
  },
  {
   "cell_type": "code",
   "execution_count": null,
   "id": "244c0430-07aa-41eb-a34c-a46804c26b76",
   "metadata": {},
   "outputs": [],
   "source": []
  }
 ],
 "metadata": {
  "kernelspec": {
   "display_name": "Python 3 (ipykernel)",
   "language": "python",
   "name": "python3"
  },
  "language_info": {
   "codemirror_mode": {
    "name": "ipython",
    "version": 3
   },
   "file_extension": ".py",
   "mimetype": "text/x-python",
   "name": "python",
   "nbconvert_exporter": "python",
   "pygments_lexer": "ipython3",
   "version": "3.11.5"
  }
 },
 "nbformat": 4,
 "nbformat_minor": 5
}
